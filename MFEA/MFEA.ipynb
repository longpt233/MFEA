{
 "cells": [
  {
   "cell_type": "markdown",
   "metadata": {},
   "source": [
    "### Import lib"
   ]
  },
  {
   "cell_type": "code",
   "execution_count": 43,
   "metadata": {},
   "outputs": [],
   "source": [
    "import sys\n",
    "sys.path.append('..')"
   ]
  },
  {
   "cell_type": "code",
   "execution_count": 44,
   "metadata": {},
   "outputs": [],
   "source": [
    "import numpy as np\n",
    "import random\n",
    "import matplotlib.pyplot as plt\n",
    "from tqdm import tqdm\n",
    "\n",
    "import config\n",
    "from models.coordinate import Coordinate"
   ]
  },
  {
   "cell_type": "markdown",
   "metadata": {},
   "source": [
    "### Read data"
   ]
  },
  {
   "cell_type": "code",
   "execution_count": 45,
   "metadata": {},
   "outputs": [],
   "source": [
    "NUMBER_FACTOR = len(config.DATA_PATH)    # số lượng task - factor  = số file dầu vào\n",
    "\n",
    "def read_data(data_path):\n",
    "    cities_list = [None]\n",
    "\n",
    "    with open(data_path, 'r') as f:\n",
    "        data = f.readlines()\n",
    "        number_cities = int(data[3].split(':')[-1].strip())\n",
    "\n",
    "        for line in data[6: 6 + number_cities]:\n",
    "            _, x, y = list(map(int, line.split()))\n",
    "            cities_list.append(Coordinate(x, y))\n",
    "\n",
    "    return cities_list, number_cities\n",
    "  \n",
    "\n",
    "def init_data():\n",
    "    cities_list = [None]      # list city ứng với mỗi task \n",
    "    number_cities = [None] \n",
    "    for path in config.DATA_PATH:    \n",
    "        factorial_cities_list, factorial_number_cities = read_data(path)\n",
    "        cities_list.append(factorial_cities_list)\n",
    "        number_cities.append(factorial_number_cities)\n",
    "    return cities_list,number_cities\n",
    "\n",
    "\n",
    "# list city     ứng với mỗi task tish từ 1\n",
    "# số lượng city ứng với mỗi task tính từ 1\n",
    "CITIES_LIST, NUMBER_CITIES  = init_data()\n"
   ]
  },
  {
   "cell_type": "markdown",
   "metadata": {},
   "source": [
    "### Initialize Population"
   ]
  },
  {
   "cell_type": "code",
   "execution_count": 46,
   "metadata": {},
   "outputs": [],
   "source": [
    "def init_population():\n",
    "    factor_index = np.argmax([0] + NUMBER_CITIES[1:])\n",
    "    population = [None] \n",
    "\n",
    "    for _ in range(1, config.POPULATION_SIZE + 1 ):  # cái range này chạy từ [) vl. không nói gì thì chạy từ 0\n",
    "        while True:\n",
    "            individual = random.sample(\n",
    "                range(1, NUMBER_CITIES[factor_index] + 1), NUMBER_CITIES[factor_index])\n",
    "\n",
    "            assert len(set(individual)) == NUMBER_CITIES[factor_index]\n",
    "            if individual not in population:\n",
    "                population.append(individual)\n",
    "                break\n",
    "        \n",
    "    return population\n",
    "\n",
    "population = init_population()     # khởi tạo quần thể bằng max số city 2 task\n"
   ]
  },
  {
   "cell_type": "code",
   "execution_count": 47,
   "metadata": {},
   "outputs": [
    {
     "data": {
      "text/plain": [
       "7"
      ]
     },
     "execution_count": 47,
     "metadata": {},
     "output_type": "execute_result"
    }
   ],
   "source": [
    "len(population)"
   ]
  },
  {
   "cell_type": "code",
   "execution_count": 48,
   "metadata": {},
   "outputs": [],
   "source": [
    "def decoded(individual, factor_index):\n",
    "    return [element for element in individual if element <= NUMBER_CITIES[factor_index]]    # decode  lấy ra thứ tự vừa đủ cho task nhỏ \n",
    "\n",
    "# ví dụ \n",
    "# task lớn = indiviual = 1 5 2 9 4 8 6 3 7  -> task nhỏ 1 5 2 4 3 (bỏ 9,8,6)"
   ]
  },
  {
   "cell_type": "markdown",
   "metadata": {},
   "source": [
    "### Adaptive function"
   ]
  },
  {
   "cell_type": "code",
   "execution_count": 49,
   "metadata": {},
   "outputs": [],
   "source": [
    "def euclidean_distance(index_city1, index_city2, factor_index):\n",
    "    tmp_CITIES_LIST = CITIES_LIST[factor_index]\n",
    "\n",
    "    return np.linalg.norm((tmp_CITIES_LIST[index_city1].x - tmp_CITIES_LIST[index_city2].x,\n",
    "                           tmp_CITIES_LIST[index_city1].y - tmp_CITIES_LIST[index_city2].y))\n",
    "\n",
    "\n",
    "DISTANCE_MATRIX = [None]\n",
    "\n",
    "for factor_index in range(1, NUMBER_FACTOR + 1):\n",
    "    tmp_LENGTH_MATRIX = NUMBER_CITIES[factor_index] + 1\n",
    "    tmp_DISTANCE_MATRIX = np.zeros((tmp_LENGTH_MATRIX, tmp_LENGTH_MATRIX))\n",
    "\n",
    "    for i in range(1, NUMBER_CITIES[factor_index] + 1):\n",
    "        for j in range(1, NUMBER_CITIES[factor_index] + 1):\n",
    "            if i < j:\n",
    "                tmp_DISTANCE_MATRIX[i][j] = euclidean_distance(\n",
    "                    i, j, factor_index)\n",
    "            elif i > j:\n",
    "                tmp_DISTANCE_MATRIX[i][j] = tmp_DISTANCE_MATRIX[j][i]\n",
    "            else:\n",
    "                tmp_DISTANCE_MATRIX[i][j] = 0\n",
    "\n",
    "    DISTANCE_MATRIX.append(tmp_DISTANCE_MATRIX)\n",
    "\n",
    "# trả về ma trận khoảng cách cả 2 task vụ  tí tính cho nhanh "
   ]
  },
  {
   "cell_type": "code",
   "execution_count": 50,
   "metadata": {},
   "outputs": [],
   "source": [
    "def cost(individual, factor_index):\n",
    "    c = 0\n",
    "    for i in range(len(individual)):   # for hết tính tổng khoảng cách\n",
    "        c += DISTANCE_MATRIX[factor_index][individual[i]][individual[i+1] if i != len(individual) - 1\n",
    "                                            else individual[0]]      # thành phố cuối thì quay về đầu \n",
    "\n",
    "    return c\n",
    "\n",
    "# hàm chi phí : trả về chi phí individual ở task factor_index"
   ]
  },
  {
   "cell_type": "markdown",
   "metadata": {},
   "source": [
    "### Ranking"
   ]
  },
  {
   "cell_type": "code",
   "execution_count": 51,
   "metadata": {},
   "outputs": [],
   "source": [
    "def get_ranks_of_pop(population):   # phục vụ cho việc tính skill và scalar\n",
    "\n",
    "    ranks = [None]\n",
    "\n",
    "    for factor_index in range(1, NUMBER_FACTOR + 1):\n",
    "        #                 lấy ra lịch trình với task tương ứng r tính cost     # với tất cả các cá thể trong quần thể (index từ 1:) \n",
    "        list_cost = [cost(decoded(individual, factor_index), factor_index) for individual in population[1:]]\n",
    "        ranks.append([None] + [it + 1 for it in np.argsort(list_cost)])\n",
    "    \n",
    "    return ranks\n",
    "\n",
    "# hi vọng Duy code đúng thì cái ranks này là mảng 2 chiều. ví dụ ranks[1] là sort list cost của các cá thể trong task 1 "
   ]
  },
  {
   "cell_type": "markdown",
   "metadata": {},
   "source": [
    "### Skill-factor & Scalar-fitness"
   ]
  },
  {
   "cell_type": "code",
   "execution_count": 52,
   "metadata": {},
   "outputs": [],
   "source": [
    "def update_skill_and_scalar(population):\n",
    "\n",
    "    ranks = get_ranks_of_pop(population)\n",
    "\n",
    "    skill_factor = [None]     # task mà nó tốt nhất ví dụ skill_factor[cá thể 5] = task vụ 2 \n",
    "    scalar_fitness = [None]   # 1/ thôi \n",
    "\n",
    "    for individual_index in range(1, config.POPULATION_SIZE + 1): \n",
    "        tmp_rank = [None]\n",
    "        for rank in ranks[1:]:\n",
    "            tmp_rank.append(rank[individual_index])\n",
    "\n",
    "        skill_factor.append(np.argmin(tmp_rank[1:]) + 1)\n",
    "        scalar_fitness.append(1/min(tmp_rank[1:]))\n",
    "\n",
    "    return skill_factor, scalar_fitness"
   ]
  },
  {
   "cell_type": "markdown",
   "metadata": {},
   "source": [
    "### Select parents"
   ]
  },
  {
   "cell_type": "code",
   "execution_count": 53,
   "metadata": {},
   "outputs": [],
   "source": [
    "def select_parents(population):\n",
    "    skill_factor, scalar_fitness = update_skill_and_scalar(population)\n",
    "\n",
    "    candidate_indexs = random.sample(range(1, config.POPULATION_SIZE + 1), 4)\n",
    "    winner_indexs = []\n",
    "    winner_indexs.append(candidate_indexs[0] if scalar_fitness[candidate_indexs[0]] < scalar_fitness[candidate_indexs[1]] else candidate_indexs[1])\n",
    "    winner_indexs.append(candidate_indexs[2] if scalar_fitness[candidate_indexs[2]] < scalar_fitness[candidate_indexs[3]] else candidate_indexs[3])\n",
    "    return ((population[winner_indexs[0]], population[winner_indexs[1]]), (skill_factor[winner_indexs[0]], skill_factor[winner_indexs[1]]))\n",
    "\n",
    "\n",
    "def select_cut_points(parent):\n",
    "    pos1, pos2 = tuple(random.sample(range(len(parent)), 2))\n",
    "\n",
    "    return (pos1, pos2) if pos1 > pos2 else (pos2, pos1)\n"
   ]
  },
  {
   "cell_type": "markdown",
   "metadata": {},
   "source": [
    "### Crossover"
   ]
  },
  {
   "cell_type": "code",
   "execution_count": 54,
   "metadata": {},
   "outputs": [],
   "source": [
    "def exec_cross(parent1, parent2, pos1, pos2):\n",
    "    child = parent1[pos1: pos2 + 1]\n",
    "    \n",
    "    tmp = []\n",
    "    for i in range(pos2 + 1, pos2 + 1 + len(parent2)):\n",
    "        if i >= len(parent2):\n",
    "            i %= len(parent2)\n",
    "        if parent2[i] not in child:\n",
    "            tmp.append(parent2[i])\n",
    "\n",
    "    return (tmp[-pos1:] if pos1 != 0 else []) + child + tmp[:len(tmp) - pos1]\n",
    "\n",
    "\n",
    "def crossover(parents, parent_skill_factors):\n",
    "    pos1, pos2 = select_cut_points(parents[0])\n",
    "\n",
    "    children = []\n",
    "    children.append(exec_cross(parents[0], parents[1], pos1, pos2))\n",
    "    children.append(exec_cross(parents[1], parents[0], pos1, pos2))\n",
    "    return (tuple(children), tuple(parent_skill_factors))\n",
    "\n",
    "\n",
    "def circle_crossover(parents):\n",
    "    pass\n",
    "    "
   ]
  },
  {
   "cell_type": "markdown",
   "metadata": {},
   "source": [
    "### Mutation"
   ]
  },
  {
   "cell_type": "code",
   "execution_count": 55,
   "metadata": {},
   "outputs": [],
   "source": [
    "def mutation(parents, parent_skill_factors):    # đột biến thì cũng phải gán lại skill factor cho con \n",
    "    \n",
    "    children = []\n",
    "    children_skill_factors = []\n",
    "\n",
    "    for parent, parent_skill_factor in zip(parents, parent_skill_factors):\n",
    "        pos1, pos2 = select_cut_points(parent)\n",
    "\n",
    "        parent[pos1], parent[pos2] = parent[pos2], parent[pos1]\n",
    "        children.append(parent)\n",
    "        children_skill_factors.append(parent_skill_factor)\n",
    "\n",
    "    return (tuple(children), tuple(children_skill_factors))\n",
    "\n"
   ]
  },
  {
   "cell_type": "markdown",
   "metadata": {},
   "source": [
    "### Generate offspring"
   ]
  },
  {
   "cell_type": "code",
   "execution_count": 72,
   "metadata": {},
   "outputs": [],
   "source": [
    "def gen_offspring(population):\n",
    "    offspring = [None]     # thế hệ con sinh dần -> tiến tới POPULATION_SIZE\n",
    "    offspring_skill_factor = [None]\n",
    "\n",
    "    while len(offspring) < len(population)  : # len chạy từ 1 -> \n",
    "        parents, parent_skill_factors = select_parents(population)\n",
    "        \n",
    "        if parent_skill_factors[0] == parent_skill_factors[1] or random.random() < config.RMP: \n",
    "                # nếu có thực hiện lai ghép \n",
    "            children_cross, children_cross_skill_factors = crossover(parents, parent_skill_factors)\n",
    "            if children_cross != None:   \n",
    "                for child, child_skill_factor in zip(children_cross, children_cross_skill_factors):\n",
    "                    offspring.append(child)\n",
    "                    offspring_skill_factor.append(child_skill_factor)\n",
    "        else:   # nếu có thực hiện đột biến \n",
    "            children_mut, children_mut_skill_factors = mutation(parents, parent_skill_factors)\n",
    "            if children_mut != None:      \n",
    "                for child, child_skill_factor in zip(children_mut, children_mut_skill_factors):\n",
    "                    offspring.append(child)                              # append nó vào vị trí 1 chẳng hạn \n",
    "                    offspring_skill_factor.append(child_skill_factor)    # thì cũng append tên task nó tốt nhất (ví dụ task 1) vào vị trí 1 đó \n",
    "                \n",
    "    assert len(offspring) >= len(population)\n",
    "\n",
    "\n",
    "    # tiến hành hợp quần thể cũ và quần thể mới \n",
    "    for individual in population : \n",
    "        if individual != None:\n",
    "            offspring.append(individual)\n",
    "    \n",
    "    # thực ra cái offspring_skill_factor chho vui chứ tí vẫn tính lại \n",
    "    # skill_factor, _ = update_skill_and_scalar(population)\n",
    "    # for individual_skill in skill_factor:\n",
    "    #     offspring_skill_factor.append(individual_skill)\n",
    "\n",
    "    # giữ lại top POPULATION_SIZE tốt nhất theo scalar_fit \n",
    "    skill_factor , scalar_fitness = update_skill_and_scalar(offspring)\n",
    "    index_top_fit = sorted(range(1,len(scalar_fitness)), key=lambda i: scalar_fitness[i])[-config.POPULATION_SIZE:]\n",
    "\n",
    "    offspring_top_fit = [None]\n",
    "    for index in index_top_fit:\n",
    "        offspring_top_fit.append(offspring[index])\n",
    "\n",
    "    skill_factor , scalar_fitness = update_skill_and_scalar(offspring_top_fit)\n",
    "    his = cost(offspring_top_fit[2],skill_factor[2])\n",
    "\n",
    "    return offspring_top_fit,his\n"
   ]
  },
  {
   "cell_type": "code",
   "execution_count": 73,
   "metadata": {},
   "outputs": [
    {
     "name": "stderr",
     "output_type": "stream",
     "text": [
      "  0%|          | 0/10 [00:00<?, ?it/s]\n"
     ]
    },
    {
     "ename": "IndexError",
     "evalue": "index 11 is out of bounds for axis 0 with size 11",
     "output_type": "error",
     "traceback": [
      "\u001b[1;31m---------------------------------------------------------------------------\u001b[0m",
      "\u001b[1;31mIndexError\u001b[0m                                Traceback (most recent call last)",
      "\u001b[1;32m~\\AppData\\Local\\Temp/ipykernel_25028/243105673.py\u001b[0m in \u001b[0;36m<module>\u001b[1;34m\u001b[0m\n\u001b[0;32m      3\u001b[0m \u001b[1;32mfor\u001b[0m \u001b[0mi\u001b[0m \u001b[1;32min\u001b[0m \u001b[0mtqdm\u001b[0m\u001b[1;33m(\u001b[0m\u001b[0mrange\u001b[0m\u001b[1;33m(\u001b[0m\u001b[0mconfig\u001b[0m\u001b[1;33m.\u001b[0m\u001b[0mNUM_GENERATIONS\u001b[0m\u001b[1;33m)\u001b[0m\u001b[1;33m)\u001b[0m\u001b[1;33m:\u001b[0m\u001b[1;33m\u001b[0m\u001b[1;33m\u001b[0m\u001b[0m\n\u001b[0;32m      4\u001b[0m \u001b[1;33m\u001b[0m\u001b[0m\n\u001b[1;32m----> 5\u001b[1;33m     \u001b[0moffspring\u001b[0m\u001b[1;33m,\u001b[0m \u001b[0mbest_cost\u001b[0m \u001b[1;33m=\u001b[0m \u001b[0mgen_offspring\u001b[0m\u001b[1;33m(\u001b[0m\u001b[0mpopulation\u001b[0m\u001b[1;33m)\u001b[0m\u001b[1;33m\u001b[0m\u001b[1;33m\u001b[0m\u001b[0m\n\u001b[0m\u001b[0;32m      6\u001b[0m     \u001b[0mhistory\u001b[0m\u001b[1;33m.\u001b[0m\u001b[0mappend\u001b[0m\u001b[1;33m(\u001b[0m\u001b[0mbest_cost\u001b[0m\u001b[1;33m)\u001b[0m\u001b[1;33m\u001b[0m\u001b[1;33m\u001b[0m\u001b[0m\n\u001b[0;32m      7\u001b[0m     \u001b[0mpopulation\u001b[0m \u001b[1;33m=\u001b[0m \u001b[0moffspring\u001b[0m\u001b[1;33m\u001b[0m\u001b[1;33m\u001b[0m\u001b[0m\n",
      "\u001b[1;32m~\\AppData\\Local\\Temp/ipykernel_25028/1700155229.py\u001b[0m in \u001b[0;36mgen_offspring\u001b[1;34m(population)\u001b[0m\n\u001b[0;32m     42\u001b[0m \u001b[1;33m\u001b[0m\u001b[0m\n\u001b[0;32m     43\u001b[0m     \u001b[0mskill_factor\u001b[0m \u001b[1;33m,\u001b[0m \u001b[0mscalar_fitness\u001b[0m \u001b[1;33m=\u001b[0m \u001b[0mupdate_skill_and_scalar\u001b[0m\u001b[1;33m(\u001b[0m\u001b[0moffspring_top_fit\u001b[0m\u001b[1;33m)\u001b[0m\u001b[1;33m\u001b[0m\u001b[1;33m\u001b[0m\u001b[0m\n\u001b[1;32m---> 44\u001b[1;33m     \u001b[0mhis\u001b[0m \u001b[1;33m=\u001b[0m \u001b[0mcost\u001b[0m\u001b[1;33m(\u001b[0m\u001b[0moffspring_top_fit\u001b[0m\u001b[1;33m[\u001b[0m\u001b[1;36m2\u001b[0m\u001b[1;33m]\u001b[0m\u001b[1;33m,\u001b[0m\u001b[0mskill_factor\u001b[0m\u001b[1;33m[\u001b[0m\u001b[1;36m2\u001b[0m\u001b[1;33m]\u001b[0m\u001b[1;33m)\u001b[0m\u001b[1;33m\u001b[0m\u001b[1;33m\u001b[0m\u001b[0m\n\u001b[0m\u001b[0;32m     45\u001b[0m \u001b[1;33m\u001b[0m\u001b[0m\n\u001b[0;32m     46\u001b[0m     \u001b[1;32mreturn\u001b[0m \u001b[0moffspring_top_fit\u001b[0m\u001b[1;33m,\u001b[0m\u001b[0mhis\u001b[0m\u001b[1;33m\u001b[0m\u001b[1;33m\u001b[0m\u001b[0m\n",
      "\u001b[1;32m~\\AppData\\Local\\Temp/ipykernel_25028/2508466143.py\u001b[0m in \u001b[0;36mcost\u001b[1;34m(individual, factor_index)\u001b[0m\n\u001b[0;32m      2\u001b[0m     \u001b[0mc\u001b[0m \u001b[1;33m=\u001b[0m \u001b[1;36m0\u001b[0m\u001b[1;33m\u001b[0m\u001b[1;33m\u001b[0m\u001b[0m\n\u001b[0;32m      3\u001b[0m     \u001b[1;32mfor\u001b[0m \u001b[0mi\u001b[0m \u001b[1;32min\u001b[0m \u001b[0mrange\u001b[0m\u001b[1;33m(\u001b[0m\u001b[0mlen\u001b[0m\u001b[1;33m(\u001b[0m\u001b[0mindividual\u001b[0m\u001b[1;33m)\u001b[0m\u001b[1;33m)\u001b[0m\u001b[1;33m:\u001b[0m   \u001b[1;31m# for hết tính tổng khoảng cách\u001b[0m\u001b[1;33m\u001b[0m\u001b[1;33m\u001b[0m\u001b[0m\n\u001b[1;32m----> 4\u001b[1;33m         c += DISTANCE_MATRIX[factor_index][individual[i]][individual[i+1] if i != len(individual) - 1\n\u001b[0m\u001b[0;32m      5\u001b[0m                                             else individual[0]]      # thành phố cuối thì quay về đầu \n\u001b[0;32m      6\u001b[0m \u001b[1;33m\u001b[0m\u001b[0m\n",
      "\u001b[1;31mIndexError\u001b[0m: index 11 is out of bounds for axis 0 with size 11"
     ]
    }
   ],
   "source": [
    "history = [None] \n",
    "\n",
    "for i in tqdm(range(config.NUM_GENERATIONS)):\n",
    "    \n",
    "    offspring, best_cost = gen_offspring(population)\n",
    "    history.append(best_cost)\n",
    "    population = offspring"
   ]
  },
  {
   "cell_type": "code",
   "execution_count": 63,
   "metadata": {},
   "outputs": [
    {
     "data": {
      "image/png": "[encoded data removed]",
      "text/plain": [
       "<Figure size 432x288 with 1 Axes>"
      ]
     },
     "metadata": {
      "needs_background": "light"
     },
     "output_type": "display_data"
    }
   ],
   "source": [
    "plt.title(\"Line graph\")\n",
    "plt.xlabel(\"X axis\")\n",
    "plt.ylabel(\"Y axis\")\n",
    "plt.plot(range(1, len(history)), list(map(lambda x: x, history[1:])), color =\"red\")\n",
    "plt.show()"
   ]
  }
 ],
 "metadata": {
  "interpreter": {
   "hash": "be7f01ca94a2d2321f9cc1d69540f1bdc7f11a874239ebde41d5522883684562"
  },
  "kernelspec": {
   "display_name": "Python 3.8.10 64-bit",
   "language": "python",
   "name": "python3"
  },
  "language_info": {
   "codemirror_mode": {
    "name": "ipython",
    "version": 3
   },
   "file_extension": ".py",
   "mimetype": "text/x-python",
   "name": "python",
   "nbconvert_exporter": "python",
   "pygments_lexer": "ipython3",
   "version": "3.7.10"
  },
  "orig_nbformat": 4
 },
 "nbformat": 4,
 "nbformat_minor": 2
}
